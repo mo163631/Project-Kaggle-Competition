{
 "cells": [
  {
   "cell_type": "code",
   "execution_count": null,
   "metadata": {
    "vscode": {
     "languageId": "plaintext"
    }
   },
   "outputs": [],
   "source": [
    "import pandas as pd\n",
    "from sklearn.model_selection import train_test_split, cross_val_score\n",
    "from imblearn.over_sampling import RandomOverSampler\n",
    "from sklearn.preprocessing import StandardScaler\n",
    "from sklearn.pipeline import Pipeline\n",
    "from xgboost import XGBClassifier\n",
    "from sklearn.ensemble import RandomForestRegressor\n",
    "\n",
    "data = pd.read_csv('train.csv')\n",
    "\n",
    "data.isna().sum()\n",
    "\n",
    "data.drop('id', axis=1, inplace=True)\n",
    "\n",
    "X = data.drop(\"Response\", axis=1)\n",
    "y = data[\"Response\"]\n",
    "\n",
    "x_train, x_test, y_train, y_test = train_test_split(X, y, test_size=0.0000143, random_state=42)\n",
    "\n",
    "oversampler = RandomOverSampler(random_state=42)\n",
    "x_train_resampled, y_train_resampled = oversampler.fit_resample(x_train, y_train)\n",
    "\n",
    "pipeline = Pipeline([\n",
    "    ('scaler', StandardScaler()), \n",
    "    ('clf', XGBClassifier(random_state=1, learning_rate=0.02))  \n",
    "])\n",
    "\n",
    "pipeline.fit(x_train_resampled, y_train_resampled)\n",
    "\n",
    "model = RandomForestRegressor(n_estimators=200, max_depth=10, random_state=42)\n",
    "\n",
    "cross_val_score(model, X, y, cv=5, scoring='neg_mean_squared_error')\n",
    "\n",
    "model.fit(X, y)\n",
    "\n",
    "test = pd.read_csv('test.csv')\n",
    "t_id = test['id']\n",
    "test.drop('id', axis=1, inplace=True)\n",
    "\n",
    "y_predict = model.predict(test)\n",
    "\n",
    "submission = pd.DataFrame({\n",
    "    'id': t_id,\n",
    "    'Response': y_predict\n",
    "})\n",
    "\n",
    "submission.to_csv(\"Data_Mining.csv\", index=False)\n"
   ]
  }
 ],
 "metadata": {
  "language_info": {
   "name": "python"
  }
 },
 "nbformat": 4,
 "nbformat_minor": 2
}
